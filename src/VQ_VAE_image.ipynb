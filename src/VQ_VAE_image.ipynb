{
  "nbformat": 4,
  "nbformat_minor": 0,
  "metadata": {
    "colab": {
      "name": "VQ_VAE_image.ipynb",
      "provenance": [],
      "collapsed_sections": []
    },
    "kernelspec": {
      "name": "python3",
      "display_name": "Python 3"
    },
    "accelerator": "GPU"
  },
  "cells": [
    {
      "cell_type": "markdown",
      "metadata": {
        "id": "05ZcJMlDHmv3"
      },
      "source": [
        "# **Read me!**\r\n",
        "\r\n",
        "\r\n",
        "> Clone project từ vq-vae-2 từ github về https://github.com/rosinality/vq-vae-2-pytorch\r\n",
        "\r\n",
        "> Lấy các model đã được pretrained từ https://drive.google.com/drive/folders/16hPskJU4adXrSV75hseaDoWQMkKnH8-A?usp=sharing và copy vô thư mục checkpoint nằm trong project vừa clone về\r\n",
        "\r\n",
        "> Cd file chạy đến project\r\n",
        "\r\n",
        "> Chạy code sample để xem kết quả generate hoặc train lại từ đầu và chọn bộ chạy mới\r\n",
        "\r\n",
        "> Hướng dẫn chi tiết được cmt ở code\r\n",
        "\r\n",
        "\r\n"
      ]
    },
    {
      "cell_type": "code",
      "metadata": {
        "colab": {
          "base_uri": "https://localhost:8080/"
        },
        "id": "uRbxOCJlF-0j",
        "outputId": "4976c676-70a3-496d-dc9c-5129b02d9e54"
      },
      "source": [
        "from google.colab import drive\n",
        "drive.mount('/content/drive')"
      ],
      "execution_count": null,
      "outputs": [
        {
          "output_type": "stream",
          "text": [
            "Mounted at /content/drive\n"
          ],
          "name": "stdout"
        }
      ]
    },
    {
      "cell_type": "code",
      "metadata": {
        "id": "m6v4krbxzWet"
      },
      "source": [
        "import os"
      ],
      "execution_count": null,
      "outputs": []
    },
    {
      "cell_type": "code",
      "metadata": {
        "id": "QNu_RyHWzab-",
        "colab": {
          "base_uri": "https://localhost:8080/",
          "height": 36
        },
        "outputId": "a37f0151-4bda-426d-9400-09163b9e302f"
      },
      "source": [
        "os.chdir('/content/drive/MyDrive/Study/Generate Anime')\r\n",
        "os.getcwd()"
      ],
      "execution_count": null,
      "outputs": [
        {
          "output_type": "execute_result",
          "data": {
            "application/vnd.google.colaboratory.intrinsic+json": {
              "type": "string"
            },
            "text/plain": [
              "'/content/drive/MyDrive/Study/Generate Anime'"
            ]
          },
          "metadata": {
            "tags": []
          },
          "execution_count": 3
        }
      ]
    },
    {
      "cell_type": "code",
      "metadata": {
        "id": "bwoTsZ89Ly3n",
        "colab": {
          "base_uri": "https://localhost:8080/"
        },
        "outputId": "58c8c625-9729-484e-8b66-d0911af92594"
      },
      "source": [
        "# Clone project\r\n",
        "!git clone https://github.com/rosinality/vq-vae-2-pytorch"
      ],
      "execution_count": null,
      "outputs": [
        {
          "output_type": "stream",
          "text": [
            "Cloning into 'vq-vae-2-pytorch'...\n",
            "remote: Enumerating objects: 82, done.\u001b[K\n",
            "remote: Total 82 (delta 0), reused 0 (delta 0), pack-reused 82\u001b[K\n",
            "Unpacking objects: 100% (82/82), done.\n"
          ],
          "name": "stdout"
        }
      ]
    },
    {
      "cell_type": "code",
      "metadata": {
        "colab": {
          "base_uri": "https://localhost:8080/",
          "height": 36
        },
        "id": "zHtCbTpY_eE7",
        "outputId": "752f50fd-e7d4-482e-dfb6-912a9de5254d"
      },
      "source": [
        "os.chdir('/content/drive/MyDrive/Study/Generate Anime/vq-vae-2-pytorch')\r\n",
        "os.getcwd()"
      ],
      "execution_count": null,
      "outputs": [
        {
          "output_type": "execute_result",
          "data": {
            "application/vnd.google.colaboratory.intrinsic+json": {
              "type": "string"
            },
            "text/plain": [
              "'/content/drive/MyDrive/Study/Generate Anime/vq-vae-2-pytorch'"
            ]
          },
          "metadata": {
            "tags": []
          },
          "execution_count": 4
        }
      ]
    },
    {
      "cell_type": "markdown",
      "metadata": {
        "id": "AjHo4tDozryE"
      },
      "source": [
        "# Train"
      ]
    },
    {
      "cell_type": "code",
      "metadata": {
        "colab": {
          "base_uri": "https://localhost:8080/"
        },
        "id": "Z-6NbECQOQCX",
        "outputId": "10848725-6838-4032-c7f1-1c9995a3d407"
      },
      "source": [
        "!nvidia-smi"
      ],
      "execution_count": null,
      "outputs": [
        {
          "output_type": "stream",
          "text": [
            "Tue Feb 23 22:24:18 2021       \n",
            "+-----------------------------------------------------------------------------+\n",
            "| NVIDIA-SMI 460.39       Driver Version: 460.32.03    CUDA Version: 11.2     |\n",
            "|-------------------------------+----------------------+----------------------+\n",
            "| GPU  Name        Persistence-M| Bus-Id        Disp.A | Volatile Uncorr. ECC |\n",
            "| Fan  Temp  Perf  Pwr:Usage/Cap|         Memory-Usage | GPU-Util  Compute M. |\n",
            "|                               |                      |               MIG M. |\n",
            "|===============================+======================+======================|\n",
            "|   0  Tesla T4            Off  | 00000000:00:04.0 Off |                    0 |\n",
            "| N/A   36C    P8     9W /  70W |      0MiB / 15109MiB |      0%      Default |\n",
            "|                               |                      |                  N/A |\n",
            "+-------------------------------+----------------------+----------------------+\n",
            "                                                                               \n",
            "+-----------------------------------------------------------------------------+\n",
            "| Processes:                                                                  |\n",
            "|  GPU   GI   CI        PID   Type   Process name                  GPU Memory |\n",
            "|        ID   ID                                                   Usage      |\n",
            "|=============================================================================|\n",
            "|  No running processes found                                                 |\n",
            "+-----------------------------------------------------------------------------+\n"
          ],
          "name": "stdout"
        }
      ]
    },
    {
      "cell_type": "code",
      "metadata": {
        "id": "0bwLNBSGMFX7",
        "colab": {
          "base_uri": "https://localhost:8080/"
        },
        "outputId": "f7d2f636-ab24-4c8c-f8b8-04593a9d13c0"
      },
      "source": [
        "# Train bộ recontruct.  '/content/drive/MyDrive/Study/Generate Anime/train' là link của dataset\r\n",
        "!python train_vqvae.py --size 256 --epoch 200 --lr 0.00015 '/content/drive/MyDrive/Study/Generate Anime/train'"
      ],
      "execution_count": null,
      "outputs": [
        {
          "output_type": "stream",
          "text": [
            "Namespace(dist_url='tcp://127.0.0.1:49152', epoch=200, lr=0.00015, n_gpu=1, path='/content/drive/MyDrive/Study/Generate Anime/train', sched=None, size=256)\n",
            "epoch: 1; mse: 0.33813; latent: 0.020; avg mse: 0.38477; lr: 0.00015: 100% 15/15 [03:48<00:00, 15.22s/it]\n",
            "epoch: 2; mse: 0.19403; latent: 0.127; avg mse: 0.30152; lr: 0.00015: 100% 15/15 [00:18<00:00,  1.20s/it]\n",
            "epoch: 3; mse: 0.20782; latent: 0.193; avg mse: 0.19331; lr: 0.00015: 100% 15/15 [00:18<00:00,  1.23s/it]\n",
            "epoch: 4; mse: 0.17591; latent: 0.045; avg mse: 0.17785; lr: 0.00015: 100% 15/15 [00:18<00:00,  1.24s/it]\n",
            "epoch: 5; mse: 0.14837; latent: 0.074; avg mse: 0.16028; lr: 0.00015: 100% 15/15 [00:18<00:00,  1.27s/it]\n",
            "epoch: 6; mse: 0.12584; latent: 0.073; avg mse: 0.15515; lr: 0.00015: 100% 15/15 [00:19<00:00,  1.30s/it]\n",
            "epoch: 7; mse: 0.12867; latent: 0.134; avg mse: 0.14877; lr: 0.00015: 100% 15/15 [00:20<00:00,  1.34s/it]\n",
            "epoch: 8; mse: 0.12406; latent: 0.232; avg mse: 0.14156; lr: 0.00015: 100% 15/15 [00:19<00:00,  1.31s/it]\n",
            "epoch: 9; mse: 0.16089; latent: 0.335; avg mse: 0.13433; lr: 0.00015: 100% 15/15 [00:19<00:00,  1.30s/it]\n",
            "epoch: 10; mse: 0.12832; latent: 0.087; avg mse: 0.12455; lr: 0.00015: 100% 15/15 [00:19<00:00,  1.31s/it]\n",
            "epoch: 11; mse: 0.09537; latent: 0.187; avg mse: 0.11071; lr: 0.00015: 100% 15/15 [00:19<00:00,  1.33s/it]\n",
            "epoch: 12; mse: 0.10550; latent: 0.068; avg mse: 0.10646; lr: 0.00015: 100% 15/15 [00:19<00:00,  1.32s/it]\n",
            "epoch: 13; mse: 0.15297; latent: 0.163; avg mse: 0.10820; lr: 0.00015: 100% 15/15 [00:19<00:00,  1.32s/it]\n",
            "epoch: 14; mse: 0.11374; latent: 0.189; avg mse: 0.14075; lr: 0.00015: 100% 15/15 [00:19<00:00,  1.31s/it]\n",
            "epoch: 15; mse: 0.10895; latent: 0.071; avg mse: 0.10887; lr: 0.00015: 100% 15/15 [00:19<00:00,  1.31s/it]\n",
            "epoch: 16; mse: 0.09790; latent: 0.171; avg mse: 0.10450; lr: 0.00015: 100% 15/15 [00:19<00:00,  1.32s/it]\n",
            "epoch: 17; mse: 0.08118; latent: 0.073; avg mse: 0.10095; lr: 0.00015: 100% 15/15 [00:19<00:00,  1.32s/it]\n",
            "epoch: 18; mse: 0.09369; latent: 0.113; avg mse: 0.09838; lr: 0.00015: 100% 15/15 [00:19<00:00,  1.32s/it]\n",
            "epoch: 19; mse: 0.09018; latent: 0.253; avg mse: 0.09402; lr: 0.00015: 100% 15/15 [00:19<00:00,  1.32s/it]\n",
            "epoch: 20; mse: 0.10792; latent: 0.116; avg mse: 0.09144; lr: 0.00015: 100% 15/15 [00:19<00:00,  1.33s/it]\n",
            "epoch: 21; mse: 0.09718; latent: 0.163; avg mse: 0.08936; lr: 0.00015: 100% 15/15 [00:19<00:00,  1.33s/it]\n",
            "epoch: 22; mse: 0.07282; latent: 0.107; avg mse: 0.08703; lr: 0.00015: 100% 15/15 [00:19<00:00,  1.33s/it]\n",
            "epoch: 23; mse: 0.10715; latent: 0.154; avg mse: 0.08469; lr: 0.00015: 100% 15/15 [00:19<00:00,  1.33s/it]\n",
            "epoch: 24; mse: 0.07377; latent: 0.130; avg mse: 0.08662; lr: 0.00015: 100% 15/15 [00:19<00:00,  1.33s/it]\n",
            "epoch: 25; mse: 0.09978; latent: 0.115; avg mse: 0.09027; lr: 0.00015: 100% 15/15 [00:19<00:00,  1.32s/it]\n",
            "epoch: 26; mse: 0.06054; latent: 0.161; avg mse: 0.08902; lr: 0.00015: 100% 15/15 [00:19<00:00,  1.33s/it]\n",
            "epoch: 27; mse: 0.06881; latent: 0.133; avg mse: 0.08576; lr: 0.00015: 100% 15/15 [00:19<00:00,  1.33s/it]\n",
            "epoch: 28; mse: 0.12696; latent: 0.196; avg mse: 0.08412; lr: 0.00015: 100% 15/15 [00:19<00:00,  1.33s/it]\n",
            "epoch: 29; mse: 0.08342; latent: 0.271; avg mse: 0.08328; lr: 0.00015: 100% 15/15 [00:19<00:00,  1.32s/it]\n",
            "epoch: 30; mse: 0.07471; latent: 0.198; avg mse: 0.08052; lr: 0.00015: 100% 15/15 [00:19<00:00,  1.31s/it]\n",
            "epoch: 31; mse: 0.09450; latent: 0.175; avg mse: 0.07950; lr: 0.00015: 100% 15/15 [00:19<00:00,  1.31s/it]\n",
            "epoch: 32; mse: 0.10145; latent: 0.257; avg mse: 0.07843; lr: 0.00015: 100% 15/15 [00:19<00:00,  1.30s/it]\n",
            "epoch: 33; mse: 0.10872; latent: 0.175; avg mse: 0.08154; lr: 0.00015: 100% 15/15 [00:19<00:00,  1.30s/it]\n",
            "epoch: 34; mse: 0.07675; latent: 0.171; avg mse: 0.08013; lr: 0.00015: 100% 15/15 [00:19<00:00,  1.29s/it]\n",
            "epoch: 35; mse: 0.07888; latent: 0.174; avg mse: 0.07715; lr: 0.00015: 100% 15/15 [00:19<00:00,  1.29s/it]\n",
            "epoch: 36; mse: 0.08776; latent: 0.161; avg mse: 0.07685; lr: 0.00015: 100% 15/15 [00:19<00:00,  1.29s/it]\n",
            "epoch: 37; mse: 0.07235; latent: 0.164; avg mse: 0.07455; lr: 0.00015: 100% 15/15 [00:19<00:00,  1.29s/it]\n",
            "epoch: 38; mse: 0.06264; latent: 0.157; avg mse: 0.07321; lr: 0.00015: 100% 15/15 [00:19<00:00,  1.29s/it]\n",
            "epoch: 39; mse: 0.07268; latent: 0.174; avg mse: 0.07192; lr: 0.00015: 100% 15/15 [00:19<00:00,  1.30s/it]\n",
            "epoch: 40; mse: 0.07134; latent: 0.182; avg mse: 0.07167; lr: 0.00015: 100% 15/15 [00:19<00:00,  1.29s/it]\n",
            "epoch: 41; mse: 0.07181; latent: 0.143; avg mse: 0.07090; lr: 0.00015: 100% 15/15 [00:19<00:00,  1.29s/it]\n",
            "epoch: 42; mse: 0.07600; latent: 0.210; avg mse: 0.07042; lr: 0.00015: 100% 15/15 [00:19<00:00,  1.29s/it]\n",
            "epoch: 43; mse: 0.08022; latent: 0.199; avg mse: 0.07015; lr: 0.00015: 100% 15/15 [00:19<00:00,  1.29s/it]\n",
            "epoch: 44; mse: 0.08213; latent: 0.242; avg mse: 0.06979; lr: 0.00015: 100% 15/15 [00:19<00:00,  1.29s/it]\n",
            "epoch: 45; mse: 0.06643; latent: 0.120; avg mse: 0.06979; lr: 0.00015: 100% 15/15 [00:19<00:00,  1.29s/it]\n",
            "epoch: 46; mse: 0.07865; latent: 0.378; avg mse: 0.06989; lr: 0.00015: 100% 15/15 [00:19<00:00,  1.29s/it]\n",
            "epoch: 47; mse: 0.07153; latent: 0.147; avg mse: 0.07016; lr: 0.00015: 100% 15/15 [00:19<00:00,  1.29s/it]\n",
            "epoch: 48; mse: 0.06708; latent: 0.155; avg mse: 0.07110; lr: 0.00015: 100% 15/15 [00:19<00:00,  1.29s/it]\n",
            "epoch: 49; mse: 0.06629; latent: 0.158; avg mse: 0.07094; lr: 0.00015: 100% 15/15 [00:19<00:00,  1.29s/it]\n",
            "epoch: 50; mse: 0.06387; latent: 0.203; avg mse: 0.07042; lr: 0.00015: 100% 15/15 [00:19<00:00,  1.29s/it]\n",
            "epoch: 51; mse: 0.09616; latent: 0.204; avg mse: 0.06959; lr: 0.00015: 100% 15/15 [00:19<00:00,  1.29s/it]\n",
            "epoch: 52; mse: 0.06409; latent: 0.228; avg mse: 0.07187; lr: 0.00015: 100% 15/15 [00:19<00:00,  1.29s/it]\n",
            "epoch: 53; mse: 0.08929; latent: 0.201; avg mse: 0.07480; lr: 0.00015: 100% 15/15 [00:19<00:00,  1.29s/it]\n",
            "epoch: 54; mse: 0.07651; latent: 0.152; avg mse: 0.07387; lr: 0.00015: 100% 15/15 [00:19<00:00,  1.28s/it]\n",
            "epoch: 55; mse: 0.07228; latent: 0.172; avg mse: 0.07304; lr: 0.00015: 100% 15/15 [00:19<00:00,  1.28s/it]\n",
            "epoch: 56; mse: 0.07137; latent: 0.241; avg mse: 0.07350; lr: 0.00015: 100% 15/15 [00:19<00:00,  1.29s/it]\n",
            "epoch: 57; mse: 0.06286; latent: 0.171; avg mse: 0.07205; lr: 0.00015: 100% 15/15 [00:19<00:00,  1.29s/it]\n",
            "epoch: 58; mse: 0.04870; latent: 0.144; avg mse: 0.06980; lr: 0.00015: 100% 15/15 [00:19<00:00,  1.29s/it]\n",
            "epoch: 59; mse: 0.05675; latent: 0.143; avg mse: 0.06975; lr: 0.00015: 100% 15/15 [00:19<00:00,  1.29s/it]\n",
            "epoch: 60; mse: 0.06513; latent: 0.243; avg mse: 0.06908; lr: 0.00015: 100% 15/15 [00:19<00:00,  1.29s/it]\n",
            "epoch: 61; mse: 0.06527; latent: 0.135; avg mse: 0.06859; lr: 0.00015: 100% 15/15 [00:19<00:00,  1.29s/it]\n",
            "epoch: 62; mse: 0.06030; latent: 0.135; avg mse: 0.06769; lr: 0.00015: 100% 15/15 [00:19<00:00,  1.30s/it]\n",
            "epoch: 63; mse: 0.07150; latent: 0.184; avg mse: 0.06754; lr: 0.00015: 100% 15/15 [00:19<00:00,  1.29s/it]\n",
            "epoch: 64; mse: 0.04395; latent: 0.124; avg mse: 0.06742; lr: 0.00015: 100% 15/15 [00:19<00:00,  1.29s/it]\n",
            "epoch: 65; mse: 0.06934; latent: 0.143; avg mse: 0.06739; lr: 0.00015: 100% 15/15 [00:19<00:00,  1.29s/it]\n",
            "epoch: 66; mse: 0.07777; latent: 0.176; avg mse: 0.06762; lr: 0.00015: 100% 15/15 [00:19<00:00,  1.30s/it]\n",
            "epoch: 67; mse: 0.04892; latent: 0.120; avg mse: 0.06701; lr: 0.00015: 100% 15/15 [00:20<00:00,  1.35s/it]\n",
            "epoch: 68; mse: 0.08254; latent: 0.251; avg mse: 0.06639; lr: 0.00015: 100% 15/15 [00:20<00:00,  1.38s/it]\n",
            "epoch: 69; mse: 0.06117; latent: 0.139; avg mse: 0.06842; lr: 0.00015: 100% 15/15 [00:19<00:00,  1.33s/it]\n",
            "epoch: 70; mse: 0.07716; latent: 0.207; avg mse: 0.06997; lr: 0.00015: 100% 15/15 [00:19<00:00,  1.32s/it]\n",
            "epoch: 71; mse: 0.06590; latent: 0.154; avg mse: 0.06914; lr: 0.00015: 100% 15/15 [00:20<00:00,  1.34s/it]\n",
            "epoch: 72; mse: 0.06804; latent: 0.120; avg mse: 0.07195; lr: 0.00015: 100% 15/15 [00:20<00:00,  1.36s/it]\n",
            "epoch: 73; mse: 0.05889; latent: 0.180; avg mse: 0.06893; lr: 0.00015: 100% 15/15 [00:19<00:00,  1.33s/it]\n",
            "epoch: 74; mse: 0.07624; latent: 0.171; avg mse: 0.06732; lr: 0.00015: 100% 15/15 [00:19<00:00,  1.33s/it]\n",
            "epoch: 75; mse: 0.06251; latent: 0.132; avg mse: 0.06761; lr: 0.00015: 100% 15/15 [00:19<00:00,  1.33s/it]\n",
            "epoch: 76; mse: 0.06667; latent: 0.264; avg mse: 0.06554; lr: 0.00015: 100% 15/15 [00:20<00:00,  1.34s/it]\n",
            "epoch: 77; mse: 0.05156; latent: 0.117; avg mse: 0.06476; lr: 0.00015: 100% 15/15 [00:20<00:00,  1.34s/it]\n",
            "epoch: 78; mse: 0.04380; latent: 0.236; avg mse: 0.06349; lr: 0.00015: 100% 15/15 [00:20<00:00,  1.34s/it]\n",
            "epoch: 79; mse: 0.05338; latent: 0.171; avg mse: 0.06106; lr: 0.00015: 100% 15/15 [00:20<00:00,  1.34s/it]\n",
            "epoch: 80; mse: 0.04339; latent: 0.090; avg mse: 0.05517; lr: 0.00015: 100% 15/15 [00:20<00:00,  1.34s/it]\n",
            "epoch: 81; mse: 0.05925; latent: 0.119; avg mse: 0.05356; lr: 0.00015: 100% 15/15 [00:20<00:00,  1.34s/it]\n",
            "epoch: 82; mse: 0.03881; latent: 0.076; avg mse: 0.05097; lr: 0.00015: 100% 15/15 [00:20<00:00,  1.34s/it]\n",
            "epoch: 83; mse: 0.05040; latent: 0.082; avg mse: 0.04766; lr: 0.00015: 100% 15/15 [00:20<00:00,  1.34s/it]\n",
            "epoch: 84; mse: 0.03537; latent: 0.037; avg mse: 0.04544; lr: 0.00015: 100% 15/15 [00:20<00:00,  1.34s/it]\n",
            "epoch: 85; mse: 0.04084; latent: 0.035; avg mse: 0.04347; lr: 0.00015: 100% 15/15 [00:20<00:00,  1.34s/it]\n",
            "epoch: 86; mse: 0.03350; latent: 0.028; avg mse: 0.04243; lr: 0.00015: 100% 15/15 [00:20<00:00,  1.34s/it]\n",
            "epoch: 87; mse: 0.03333; latent: 0.025; avg mse: 0.04153; lr: 0.00015: 100% 15/15 [00:20<00:00,  1.34s/it]\n",
            "epoch: 88; mse: 0.04635; latent: 0.092; avg mse: 0.04023; lr: 0.00015: 100% 15/15 [00:20<00:00,  1.34s/it]\n",
            "epoch: 89; mse: 0.04182; latent: 0.026; avg mse: 0.03914; lr: 0.00015: 100% 15/15 [00:20<00:00,  1.34s/it]\n",
            "epoch: 90; mse: 0.04079; latent: 0.025; avg mse: 0.03820; lr: 0.00015: 100% 15/15 [00:20<00:00,  1.34s/it]\n",
            "epoch: 91; mse: 0.02539; latent: 0.020; avg mse: 0.03752; lr: 0.00015: 100% 15/15 [00:20<00:00,  1.34s/it]\n",
            "epoch: 92; mse: 0.03732; latent: 0.022; avg mse: 0.03686; lr: 0.00015: 100% 15/15 [00:20<00:00,  1.34s/it]\n",
            "epoch: 93; mse: 0.04624; latent: 0.024; avg mse: 0.03618; lr: 0.00015: 100% 15/15 [00:20<00:00,  1.35s/it]\n",
            "epoch: 94; mse: 0.03311; latent: 0.022; avg mse: 0.03572; lr: 0.00015: 100% 15/15 [00:20<00:00,  1.34s/it]\n",
            "epoch: 95; mse: 0.02787; latent: 0.016; avg mse: 0.03511; lr: 0.00015: 100% 15/15 [00:20<00:00,  1.34s/it]\n",
            "epoch: 96; mse: 0.03435; latent: 0.012; avg mse: 0.03454; lr: 0.00015: 100% 15/15 [00:20<00:00,  1.34s/it]\n",
            "epoch: 97; mse: 0.02682; latent: 0.012; avg mse: 0.03405; lr: 0.00015: 100% 15/15 [00:20<00:00,  1.34s/it]\n",
            "epoch: 98; mse: 0.02964; latent: 0.010; avg mse: 0.03366; lr: 0.00015: 100% 15/15 [00:20<00:00,  1.34s/it]\n",
            "epoch: 99; mse: 0.02958; latent: 0.010; avg mse: 0.03329; lr: 0.00015: 100% 15/15 [00:20<00:00,  1.34s/it]\n",
            "epoch: 100; mse: 0.02367; latent: 0.011; avg mse: 0.03297; lr: 0.00015: 100% 15/15 [00:20<00:00,  1.34s/it]\n",
            "epoch: 101; mse: 0.04094; latent: 0.022; avg mse: 0.03258; lr: 0.00015: 100% 15/15 [00:20<00:00,  1.34s/it]\n",
            "epoch: 102; mse: 0.02849; latent: 0.009; avg mse: 0.03225; lr: 0.00015: 100% 15/15 [00:20<00:00,  1.34s/it]\n",
            "epoch: 103; mse: 0.03969; latent: 0.015; avg mse: 0.03192; lr: 0.00015: 100% 15/15 [00:20<00:00,  1.34s/it]\n",
            "epoch: 104; mse: 0.03669; latent: 0.019; avg mse: 0.03151; lr: 0.00015: 100% 15/15 [00:20<00:00,  1.34s/it]\n",
            "epoch: 105; mse: 0.03602; latent: 0.024; avg mse: 0.03122; lr: 0.00015: 100% 15/15 [00:20<00:00,  1.34s/it]\n",
            "epoch: 106; mse: 0.02812; latent: 0.011; avg mse: 0.03103; lr: 0.00015: 100% 15/15 [00:20<00:00,  1.34s/it]\n",
            "epoch: 107; mse: 0.03861; latent: 0.036; avg mse: 0.02960; lr: 0.00015: 100% 15/15 [00:20<00:00,  1.35s/it]\n",
            "epoch: 108; mse: 0.02021; latent: 0.008; avg mse: 0.03035; lr: 0.00015: 100% 15/15 [00:20<00:00,  1.34s/it]\n",
            "epoch: 109; mse: 0.02787; latent: 0.014; avg mse: 0.02938; lr: 0.00015: 100% 15/15 [00:20<00:00,  1.34s/it]\n",
            "epoch: 110; mse: 0.03305; latent: 0.018; avg mse: 0.02870; lr: 0.00015: 100% 15/15 [00:20<00:00,  1.34s/it]\n",
            "epoch: 111; mse: 0.03363; latent: 0.011; avg mse: 0.02841; lr: 0.00015: 100% 15/15 [00:20<00:00,  1.34s/it]\n",
            "epoch: 112; mse: 0.03417; latent: 0.014; avg mse: 0.02803; lr: 0.00015: 100% 15/15 [00:20<00:00,  1.34s/it]\n",
            "epoch: 113; mse: 0.02161; latent: 0.013; avg mse: 0.02778; lr: 0.00015: 100% 15/15 [00:20<00:00,  1.34s/it]\n",
            "epoch: 114; mse: 0.02133; latent: 0.010; avg mse: 0.02796; lr: 0.00015: 100% 15/15 [00:20<00:00,  1.35s/it]\n",
            "epoch: 115; mse: 0.02084; latent: 0.006; avg mse: 0.02750; lr: 0.00015: 100% 15/15 [00:20<00:00,  1.34s/it]\n",
            "epoch: 116; mse: 0.02764; latent: 0.013; avg mse: 0.02717; lr: 0.00015: 100% 15/15 [00:20<00:00,  1.34s/it]\n",
            "epoch: 117; mse: 0.02496; latent: 0.017; avg mse: 0.02699; lr: 0.00015: 100% 15/15 [00:20<00:00,  1.34s/it]\n",
            "epoch: 118; mse: 0.03251; latent: 0.013; avg mse: 0.02699; lr: 0.00015: 100% 15/15 [00:20<00:00,  1.35s/it]\n",
            "epoch: 119; mse: 0.03549; latent: 0.013; avg mse: 0.02662; lr: 0.00015: 100% 15/15 [00:20<00:00,  1.35s/it]\n",
            "epoch: 120; mse: 0.02273; latent: 0.008; avg mse: 0.02634; lr: 0.00015: 100% 15/15 [00:20<00:00,  1.35s/it]\n",
            "epoch: 121; mse: 0.02820; latent: 0.009; avg mse: 0.02604; lr: 0.00015: 100% 15/15 [00:20<00:00,  1.34s/it]\n",
            "epoch: 122; mse: 0.02829; latent: 0.010; avg mse: 0.02573; lr: 0.00015: 100% 15/15 [00:20<00:00,  1.34s/it]\n",
            "epoch: 123; mse: 0.02239; latent: 0.008; avg mse: 0.02541; lr: 0.00015: 100% 15/15 [00:20<00:00,  1.34s/it]\n",
            "epoch: 124; mse: 0.02182; latent: 0.009; avg mse: 0.02512; lr: 0.00015: 100% 15/15 [00:20<00:00,  1.35s/it]\n",
            "epoch: 125; mse: 0.02241; latent: 0.007; avg mse: 0.02486; lr: 0.00015: 100% 15/15 [00:20<00:00,  1.34s/it]\n",
            "epoch: 126; mse: 0.02042; latent: 0.008; avg mse: 0.02463; lr: 0.00015: 100% 15/15 [00:20<00:00,  1.35s/it]\n",
            "epoch: 127; mse: 0.04165; latent: 0.013; avg mse: 0.02440; lr: 0.00015: 100% 15/15 [00:20<00:00,  1.35s/it]\n",
            "epoch: 128; mse: 0.02126; latent: 0.007; avg mse: 0.02423; lr: 0.00015: 100% 15/15 [00:20<00:00,  1.35s/it]\n",
            "epoch: 129; mse: 0.01840; latent: 0.007; avg mse: 0.02397; lr: 0.00015: 100% 15/15 [00:20<00:00,  1.35s/it]\n",
            "epoch: 130; mse: 0.01771; latent: 0.007; avg mse: 0.02378; lr: 0.00015: 100% 15/15 [00:20<00:00,  1.35s/it]\n",
            "epoch: 131; mse: 0.01914; latent: 0.007; avg mse: 0.02357; lr: 0.00015: 100% 15/15 [00:20<00:00,  1.35s/it]\n",
            "epoch: 132; mse: 0.02263; latent: 0.011; avg mse: 0.02344; lr: 0.00015: 100% 15/15 [00:20<00:00,  1.34s/it]\n",
            "epoch: 133; mse: 0.02120; latent: 0.009; avg mse: 0.02324; lr: 0.00015: 100% 15/15 [00:20<00:00,  1.35s/it]\n",
            "epoch: 134; mse: 0.01489; latent: 0.007; avg mse: 0.02300; lr: 0.00015: 100% 15/15 [00:20<00:00,  1.35s/it]\n",
            "epoch: 135; mse: 0.02044; latent: 0.008; avg mse: 0.02281; lr: 0.00015: 100% 15/15 [00:20<00:00,  1.35s/it]\n",
            "epoch: 136; mse: 0.02638; latent: 0.014; avg mse: 0.02269; lr: 0.00015: 100% 15/15 [00:20<00:00,  1.35s/it]\n",
            "epoch: 137; mse: 0.02411; latent: 0.011; avg mse: 0.02250; lr: 0.00015: 100% 15/15 [00:20<00:00,  1.34s/it]\n",
            "epoch: 138; mse: 0.02357; latent: 0.014; avg mse: 0.02242; lr: 0.00015: 100% 15/15 [00:20<00:00,  1.35s/it]\n",
            "epoch: 139; mse: 0.01854; latent: 0.011; avg mse: 0.02225; lr: 0.00015: 100% 15/15 [00:20<00:00,  1.35s/it]\n",
            "epoch: 140; mse: 0.01268; latent: 0.007; avg mse: 0.02214; lr: 0.00015: 100% 15/15 [00:20<00:00,  1.35s/it]\n",
            "epoch: 141; mse: 0.02671; latent: 0.008; avg mse: 0.02194; lr: 0.00015: 100% 15/15 [00:20<00:00,  1.34s/it]\n",
            "epoch: 142; mse: 0.02702; latent: 0.018; avg mse: 0.02175; lr: 0.00015: 100% 15/15 [00:20<00:00,  1.35s/it]\n",
            "epoch: 143; mse: 0.01838; latent: 0.006; avg mse: 0.02219; lr: 0.00015: 100% 15/15 [00:20<00:00,  1.34s/it]\n",
            "epoch: 144; mse: 0.01983; latent: 0.007; avg mse: 0.02189; lr: 0.00015: 100% 15/15 [00:20<00:00,  1.35s/it]\n",
            "epoch: 145; mse: 0.02834; latent: 0.010; avg mse: 0.02257; lr: 0.00015: 100% 15/15 [00:20<00:00,  1.34s/it]\n",
            "epoch: 146; mse: 0.02093; latent: 0.010; avg mse: 0.02262; lr: 0.00015: 100% 15/15 [00:20<00:00,  1.34s/it]\n",
            "epoch: 147; mse: 0.01729; latent: 0.007; avg mse: 0.02170; lr: 0.00015: 100% 15/15 [00:20<00:00,  1.35s/it]\n",
            "epoch: 148; mse: 0.01692; latent: 0.007; avg mse: 0.02128; lr: 0.00015: 100% 15/15 [00:20<00:00,  1.35s/it]\n",
            "epoch: 149; mse: 0.02150; latent: 0.009; avg mse: 0.02093; lr: 0.00015: 100% 15/15 [00:20<00:00,  1.35s/it]\n",
            "epoch: 150; mse: 0.02308; latent: 0.014; avg mse: 0.02068; lr: 0.00015: 100% 15/15 [00:20<00:00,  1.35s/it]\n",
            "epoch: 151; mse: 0.02459; latent: 0.017; avg mse: 0.02056; lr: 0.00015: 100% 15/15 [00:20<00:00,  1.35s/it]\n",
            "epoch: 152; mse: 0.02720; latent: 0.012; avg mse: 0.02049; lr: 0.00015: 100% 15/15 [00:20<00:00,  1.34s/it]\n",
            "epoch: 153; mse: 0.02584; latent: 0.013; avg mse: 0.02029; lr: 0.00015: 100% 15/15 [00:20<00:00,  1.34s/it]\n",
            "epoch: 154; mse: 0.02096; latent: 0.009; avg mse: 0.02013; lr: 0.00015: 100% 15/15 [00:20<00:00,  1.34s/it]\n",
            "epoch: 155; mse: 0.01327; latent: 0.005; avg mse: 0.01998; lr: 0.00015: 100% 15/15 [00:20<00:00,  1.35s/it]\n",
            "epoch: 156; mse: 0.02027; latent: 0.012; avg mse: 0.01984; lr: 0.00015: 100% 15/15 [00:20<00:00,  1.34s/it]\n",
            "epoch: 157; mse: 0.02186; latent: 0.009; avg mse: 0.01973; lr: 0.00015: 100% 15/15 [00:20<00:00,  1.34s/it]\n",
            "epoch: 158; mse: 0.02408; latent: 0.016; avg mse: 0.01964; lr: 0.00015: 100% 15/15 [00:20<00:00,  1.34s/it]\n",
            "epoch: 159; mse: 0.02262; latent: 0.013; avg mse: 0.01949; lr: 0.00015: 100% 15/15 [00:20<00:00,  1.35s/it]\n",
            "epoch: 160; mse: 0.02121; latent: 0.012; avg mse: 0.01936; lr: 0.00015: 100% 15/15 [00:20<00:00,  1.34s/it]\n",
            "epoch: 161; mse: 0.02082; latent: 0.011; avg mse: 0.01927; lr: 0.00015: 100% 15/15 [00:20<00:00,  1.35s/it]\n",
            "epoch: 162; mse: 0.02262; latent: 0.017; avg mse: 0.01914; lr: 0.00015: 100% 15/15 [00:20<00:00,  1.34s/it]\n",
            "epoch: 163; mse: 0.01766; latent: 0.010; avg mse: 0.01913; lr: 0.00015: 100% 15/15 [00:20<00:00,  1.35s/it]\n",
            "epoch: 164; mse: 0.01792; latent: 0.011; avg mse: 0.01896; lr: 0.00015: 100% 15/15 [00:20<00:00,  1.34s/it]\n",
            "epoch: 165; mse: 0.01943; latent: 0.011; avg mse: 0.01891; lr: 0.00015: 100% 15/15 [00:20<00:00,  1.34s/it]\n",
            "epoch: 166; mse: 0.01610; latent: 0.008; avg mse: 0.01889; lr: 0.00015: 100% 15/15 [00:20<00:00,  1.35s/it]\n",
            "epoch: 167; mse: 0.01301; latent: 0.008; avg mse: 0.01872; lr: 0.00015: 100% 15/15 [00:20<00:00,  1.35s/it]\n",
            "epoch: 168; mse: 0.01811; latent: 0.009; avg mse: 0.01863; lr: 0.00015: 100% 15/15 [00:20<00:00,  1.35s/it]\n",
            "epoch: 169; mse: 0.01910; latent: 0.008; avg mse: 0.01861; lr: 0.00015: 100% 15/15 [00:20<00:00,  1.35s/it]\n",
            "epoch: 170; mse: 0.01939; latent: 0.017; avg mse: 0.01851; lr: 0.00015: 100% 15/15 [00:20<00:00,  1.35s/it]\n",
            "epoch: 171; mse: 0.02161; latent: 0.010; avg mse: 0.01848; lr: 0.00015: 100% 15/15 [00:20<00:00,  1.35s/it]\n",
            "epoch: 172; mse: 0.01696; latent: 0.008; avg mse: 0.01834; lr: 0.00015: 100% 15/15 [00:20<00:00,  1.35s/it]\n",
            "epoch: 173; mse: 0.02240; latent: 0.011; avg mse: 0.01820; lr: 0.00015: 100% 15/15 [00:20<00:00,  1.35s/it]\n",
            "epoch: 174; mse: 0.01736; latent: 0.010; avg mse: 0.01815; lr: 0.00015: 100% 15/15 [00:20<00:00,  1.35s/it]\n",
            "epoch: 175; mse: 0.01463; latent: 0.009; avg mse: 0.01813; lr: 0.00015: 100% 15/15 [00:20<00:00,  1.35s/it]\n",
            "epoch: 176; mse: 0.01755; latent: 0.008; avg mse: 0.01808; lr: 0.00015: 100% 15/15 [00:20<00:00,  1.34s/it]\n",
            "epoch: 177; mse: 0.01619; latent: 0.010; avg mse: 0.01791; lr: 0.00015: 100% 15/15 [00:20<00:00,  1.35s/it]\n",
            "epoch: 178; mse: 0.01690; latent: 0.008; avg mse: 0.01805; lr: 0.00015: 100% 15/15 [00:20<00:00,  1.35s/it]\n",
            "epoch: 179; mse: 0.02032; latent: 0.009; avg mse: 0.01912; lr: 0.00015: 100% 15/15 [00:20<00:00,  1.35s/it]\n",
            "epoch: 180; mse: 0.01554; latent: 0.008; avg mse: 0.01971; lr: 0.00015: 100% 15/15 [00:20<00:00,  1.34s/it]\n",
            "epoch: 181; mse: 0.01596; latent: 0.013; avg mse: 0.01809; lr: 0.00015: 100% 15/15 [00:20<00:00,  1.35s/it]\n",
            "epoch: 182; mse: 0.02936; latent: 0.018; avg mse: 0.01783; lr: 0.00015: 100% 15/15 [00:20<00:00,  1.35s/it]\n",
            "epoch: 183; mse: 0.02556; latent: 0.012; avg mse: 0.01759; lr: 0.00015: 100% 15/15 [00:20<00:00,  1.34s/it]\n",
            "epoch: 184; mse: 0.02258; latent: 0.013; avg mse: 0.01751; lr: 0.00015: 100% 15/15 [00:20<00:00,  1.35s/it]\n",
            "epoch: 185; mse: 0.01861; latent: 0.011; avg mse: 0.01744; lr: 0.00015: 100% 15/15 [00:20<00:00,  1.35s/it]\n",
            "epoch: 186; mse: 0.01687; latent: 0.008; avg mse: 0.01735; lr: 0.00015: 100% 15/15 [00:20<00:00,  1.35s/it]\n",
            "epoch: 187; mse: 0.02511; latent: 0.012; avg mse: 0.01739; lr: 0.00015: 100% 15/15 [00:20<00:00,  1.35s/it]\n",
            "epoch: 188; mse: 0.02057; latent: 0.010; avg mse: 0.01744; lr: 0.00015: 100% 15/15 [00:20<00:00,  1.35s/it]\n",
            "epoch: 189; mse: 0.02518; latent: 0.013; avg mse: 0.01762; lr: 0.00015: 100% 15/15 [00:20<00:00,  1.35s/it]\n",
            "epoch: 190; mse: 0.01158; latent: 0.008; avg mse: 0.01743; lr: 0.00015: 100% 15/15 [00:20<00:00,  1.35s/it]\n",
            "epoch: 191; mse: 0.01581; latent: 0.008; avg mse: 0.01724; lr: 0.00015: 100% 15/15 [00:20<00:00,  1.35s/it]\n",
            "epoch: 192; mse: 0.01928; latent: 0.010; avg mse: 0.01749; lr: 0.00015: 100% 15/15 [00:20<00:00,  1.35s/it]\n",
            "epoch: 193; mse: 0.02113; latent: 0.010; avg mse: 0.01763; lr: 0.00015: 100% 15/15 [00:20<00:00,  1.35s/it]\n",
            "epoch: 194; mse: 0.01829; latent: 0.008; avg mse: 0.01748; lr: 0.00015: 100% 15/15 [00:20<00:00,  1.35s/it]\n",
            "epoch: 195; mse: 0.01409; latent: 0.007; avg mse: 0.01739; lr: 0.00015: 100% 15/15 [00:20<00:00,  1.35s/it]\n",
            "epoch: 196; mse: 0.01844; latent: 0.008; avg mse: 0.01718; lr: 0.00015: 100% 15/15 [00:20<00:00,  1.35s/it]\n",
            "epoch: 197; mse: 0.02121; latent: 0.011; avg mse: 0.01719; lr: 0.00015: 100% 15/15 [00:20<00:00,  1.35s/it]\n",
            "epoch: 198; mse: 0.01889; latent: 0.009; avg mse: 0.01715; lr: 0.00015: 100% 15/15 [00:20<00:00,  1.35s/it]\n",
            "epoch: 199; mse: 0.01994; latent: 0.010; avg mse: 0.01734; lr: 0.00015: 100% 15/15 [00:20<00:00,  1.35s/it]\n",
            "epoch: 200; mse: 0.00946; latent: 0.008; avg mse: 0.01712; lr: 0.00015: 100% 15/15 [00:20<00:00,  1.35s/it]\n"
          ],
          "name": "stdout"
        }
      ]
    },
    {
      "cell_type": "code",
      "metadata": {
        "colab": {
          "base_uri": "https://localhost:8080/"
        },
        "id": "rEpEmv61Q2P8",
        "outputId": "809486b0-9a94-4aed-c00a-cff562871086"
      },
      "source": [
        "# Tạo dữ liệu Train bộ generate latten PixelNAIL\r\n",
        "# '/content/drive/MyDrive/Study/Generate Anime/vq-vae-2-pytorch/checkpoint/vqvae_200.pt' là model đã được train bên trêntrên. Chọn mô đồ tối ưu nhất để chạy\r\n",
        "# '/content/drive/MyDrive/Study/Generate Anime/train' dữ liệu train\r\n",
        "!python extract_code.py --ckpt '/content/drive/MyDrive/Study/Generate Anime/vq-vae-2-pytorch/checkpoint/vqvae_200.pt' --name anime '/content/drive/MyDrive/Study/Generate Anime/train'"
      ],
      "execution_count": null,
      "outputs": [
        {
          "output_type": "stream",
          "text": [
            "inserted: 1796: 100% 15/15 [00:07<00:00,  1.96it/s]\n"
          ],
          "name": "stdout"
        }
      ]
    },
    {
      "cell_type": "code",
      "metadata": {
        "colab": {
          "base_uri": "https://localhost:8080/"
        },
        "id": "TQ52MBq-SxK6",
        "outputId": "11141c55-b56a-48ef-b383-6c2f5b30875f"
      },
      "source": [
        "!python train_pixelsnail.py"
      ],
      "execution_count": null,
      "outputs": [
        {
          "output_type": "stream",
          "text": [
            "usage: train_pixelsnail.py [-h] [--batch BATCH] [--epoch EPOCH] [--hier HIER]\n",
            "                           [--lr LR] [--channel CHANNEL]\n",
            "                           [--n_res_block N_RES_BLOCK]\n",
            "                           [--n_res_channel N_RES_CHANNEL]\n",
            "                           [--n_out_res_block N_OUT_RES_BLOCK]\n",
            "                           [--n_cond_res_block N_COND_RES_BLOCK]\n",
            "                           [--dropout DROPOUT] [--amp AMP] [--sched SCHED]\n",
            "                           [--ckpt CKPT]\n",
            "                           path\n",
            "train_pixelsnail.py: error: the following arguments are required: path\n"
          ],
          "name": "stdout"
        }
      ]
    },
    {
      "cell_type": "code",
      "metadata": {
        "colab": {
          "base_uri": "https://localhost:8080/"
        },
        "id": "NRXda8YeYmZC",
        "outputId": "5deb69da-2d09-48c4-abf0-38e9de04213c"
      },
      "source": [
        "# Train bộ generate latten TopTop. Tên folder là anime\r\n",
        "!python train_pixelsnail.py 'anime' --hier top --batch 5 --epoch 30 --lr 0.0001"
      ],
      "execution_count": null,
      "outputs": [
        {
          "output_type": "stream",
          "text": [
            "Namespace(amp='O0', batch=5, channel=256, ckpt=None, dropout=0.1, epoch=30, hier='top', lr=0.0001, n_cond_res_block=3, n_out_res_block=0, n_res_block=4, n_res_channel=256, path='anime', sched=None)\n",
            "epoch: 1; loss: 1.18201; acc: 0.54805; lr: 0.00010: 100% 359/359 [04:58<00:00,  1.20it/s]\n",
            "epoch: 2; loss: 1.35532; acc: 0.45527; lr: 0.00010: 100% 359/359 [04:59<00:00,  1.20it/s]\n",
            "epoch: 3; loss: 1.27994; acc: 0.49648; lr: 0.00010: 100% 359/359 [04:59<00:00,  1.20it/s]\n",
            "epoch: 4; loss: 1.44250; acc: 0.42246; lr: 0.00010: 100% 359/359 [04:59<00:00,  1.20it/s]\n",
            "epoch: 5; loss: 1.41949; acc: 0.45293; lr: 0.00010: 100% 359/359 [04:59<00:00,  1.20it/s]\n",
            "epoch: 6; loss: 1.34500; acc: 0.45859; lr: 0.00010: 100% 359/359 [04:59<00:00,  1.20it/s]\n",
            "epoch: 7; loss: 1.15407; acc: 0.53633; lr: 0.00010: 100% 359/359 [04:59<00:00,  1.20it/s]\n",
            "epoch: 8; loss: 1.32013; acc: 0.47051; lr: 0.00010: 100% 359/359 [04:59<00:00,  1.20it/s]\n",
            "epoch: 9; loss: 1.24333; acc: 0.49590; lr: 0.00010: 100% 359/359 [04:59<00:00,  1.20it/s]\n",
            "epoch: 10; loss: 1.33224; acc: 0.46152; lr: 0.00010: 100% 359/359 [04:59<00:00,  1.20it/s]\n",
            "epoch: 11; loss: 1.19933; acc: 0.51875; lr: 0.00010: 100% 359/359 [04:59<00:00,  1.20it/s]\n",
            "epoch: 12; loss: 1.14103; acc: 0.53848; lr: 0.00010: 100% 359/359 [04:59<00:00,  1.20it/s]\n",
            "epoch: 13; loss: 1.11868; acc: 0.55625; lr: 0.00010: 100% 359/359 [04:59<00:00,  1.20it/s]\n",
            "epoch: 14; loss: 1.23075; acc: 0.50117; lr: 0.00010: 100% 359/359 [04:59<00:00,  1.20it/s]\n",
            "epoch: 15; loss: 1.30123; acc: 0.48418; lr: 0.00010: 100% 359/359 [04:59<00:00,  1.20it/s]\n",
            "epoch: 16; loss: 1.09297; acc: 0.54805; lr: 0.00010: 100% 359/359 [04:59<00:00,  1.20it/s]\n",
            "epoch: 17; loss: 1.08967; acc: 0.55840; lr: 0.00010: 100% 359/359 [04:59<00:00,  1.20it/s]\n",
            "epoch: 18; loss: 1.06259; acc: 0.58262; lr: 0.00010: 100% 359/359 [04:59<00:00,  1.20it/s]\n",
            "epoch: 19; loss: 0.91750; acc: 0.63926; lr: 0.00010: 100% 359/359 [04:59<00:00,  1.20it/s]\n",
            "epoch: 20; loss: 0.84689; acc: 0.66172; lr: 0.00010: 100% 359/359 [04:59<00:00,  1.20it/s]\n",
            "epoch: 21; loss: 0.78030; acc: 0.68574; lr: 0.00010: 100% 359/359 [04:59<00:00,  1.20it/s]\n",
            "epoch: 22; loss: 0.68560; acc: 0.74063; lr: 0.00010: 100% 359/359 [04:59<00:00,  1.20it/s]\n",
            "epoch: 23; loss: 0.58175; acc: 0.77598; lr: 0.00010: 100% 359/359 [04:59<00:00,  1.20it/s]\n",
            "epoch: 24; loss: 0.50975; acc: 0.80410; lr: 0.00010: 100% 359/359 [04:59<00:00,  1.20it/s]\n",
            "epoch: 25; loss: 0.48006; acc: 0.81445; lr: 0.00010: 100% 359/359 [04:59<00:00,  1.20it/s]\n",
            "epoch: 26; loss: 0.41796; acc: 0.84277; lr: 0.00010: 100% 359/359 [04:59<00:00,  1.20it/s]\n",
            "epoch: 27; loss: 0.36316; acc: 0.86621; lr: 0.00010: 100% 359/359 [04:59<00:00,  1.20it/s]\n",
            "epoch: 28; loss: 0.35122; acc: 0.86484; lr: 0.00010: 100% 359/359 [04:59<00:00,  1.20it/s]\n",
            "epoch: 29; loss: 0.31117; acc: 0.88867; lr: 0.00010: 100% 359/359 [04:59<00:00,  1.20it/s]\n",
            "epoch: 30; loss: 0.31842; acc: 0.88027; lr: 0.00010: 100% 359/359 [04:59<00:00,  1.20it/s]\n"
          ],
          "name": "stdout"
        }
      ]
    },
    {
      "cell_type": "code",
      "metadata": {
        "colab": {
          "base_uri": "https://localhost:8080/"
        },
        "id": "B57YLQChssPK",
        "outputId": "809d325b-b6d2-4f5a-e401-2ca6d1b138e1"
      },
      "source": [
        "!python /content/vq-vae-2-pytorch/train_pixelsnail.py"
      ],
      "execution_count": null,
      "outputs": [
        {
          "output_type": "stream",
          "text": [
            "usage: train_pixelsnail.py [-h] [--batch BATCH] [--epoch EPOCH] [--hier HIER]\n",
            "                           [--lr LR] [--channel CHANNEL]\n",
            "                           [--n_res_block N_RES_BLOCK]\n",
            "                           [--n_res_channel N_RES_CHANNEL]\n",
            "                           [--n_out_res_block N_OUT_RES_BLOCK]\n",
            "                           [--n_cond_res_block N_COND_RES_BLOCK]\n",
            "                           [--dropout DROPOUT] [--amp AMP] [--sched SCHED]\n",
            "                           [--ckpt CKPT]\n",
            "                           path\n",
            "train_pixelsnail.py: error: the following arguments are required: path\n"
          ],
          "name": "stdout"
        }
      ]
    },
    {
      "cell_type": "code",
      "metadata": {
        "colab": {
          "base_uri": "https://localhost:8080/"
        },
        "id": "cO23HmEdOPin",
        "outputId": "e8678576-624b-447c-f841-2a79b190fc56"
      },
      "source": [
        "# Train bộ generate latten Bottom. Tên folder là anime\r\n",
        "!python train_pixelsnail.py 'anime' --hier bottom --batch 5 --epoch 20 --lr 0.00015"
      ],
      "execution_count": null,
      "outputs": [
        {
          "output_type": "stream",
          "text": [
            "Namespace(amp='O0', batch=5, channel=256, ckpt=None, dropout=0.1, epoch=20, hier='bottom', lr=0.00015, n_cond_res_block=3, n_out_res_block=0, n_res_block=4, n_res_channel=256, path='anime', sched=None)\n",
            "epoch: 1; loss: 3.40462; acc: 0.14141; lr: 0.00015: 100% 359/359 [14:27<00:00,  2.42s/it]\n",
            "epoch: 2; loss: 3.23417; acc: 0.17349; lr: 0.00015: 100% 359/359 [14:27<00:00,  2.42s/it]\n",
            "epoch: 3; loss: 2.94570; acc: 0.23892; lr: 0.00015: 100% 359/359 [14:26<00:00,  2.41s/it]\n",
            "epoch: 4; loss: 2.76087; acc: 0.26211; lr: 0.00015: 100% 359/359 [14:26<00:00,  2.41s/it]\n",
            "epoch: 5; loss: 2.67741; acc: 0.29844; lr: 0.00015: 100% 359/359 [14:27<00:00,  2.42s/it]\n",
            "epoch: 6; loss: 2.41385; acc: 0.33208; lr: 0.00015: 100% 359/359 [14:28<00:00,  2.42s/it]\n",
            "epoch: 7; loss: 2.77331; acc: 0.26392; lr: 0.00015: 100% 359/359 [14:27<00:00,  2.42s/it]\n",
            "epoch: 8; loss: 2.66125; acc: 0.28584; lr: 0.00015: 100% 359/359 [14:27<00:00,  2.42s/it]\n",
            "epoch: 9; loss: 2.56267; acc: 0.29731; lr: 0.00015: 100% 359/359 [14:27<00:00,  2.42s/it]\n",
            "epoch: 10; loss: 2.57820; acc: 0.29932; lr: 0.00015: 100% 359/359 [14:28<00:00,  2.42s/it]\n",
            "epoch: 11; loss: 2.23730; acc: 0.38408; lr: 0.00015: 100% 359/359 [14:28<00:00,  2.42s/it]\n",
            "epoch: 12; loss: 2.24908; acc: 0.37725; lr: 0.00015: 100% 359/359 [14:28<00:00,  2.42s/it]\n",
            "epoch: 13; loss: 2.22239; acc: 0.37856; lr: 0.00015: 100% 359/359 [14:27<00:00,  2.42s/it]\n",
            "epoch: 14; loss: 2.28242; acc: 0.35059; lr: 0.00015: 100% 359/359 [14:28<00:00,  2.42s/it]\n",
            "epoch: 15; loss: 2.24674; acc: 0.36982; lr: 0.00015: 100% 359/359 [14:28<00:00,  2.42s/it]\n",
            "epoch: 16; loss: 2.24034; acc: 0.36294; lr: 0.00015: 100% 359/359 [14:28<00:00,  2.42s/it]\n",
            "epoch: 17; loss: 2.00032; acc: 0.42837; lr: 0.00015: 100% 359/359 [14:28<00:00,  2.42s/it]\n",
            "Traceback (most recent call last):\n",
            "  File \"train_pixelsnail.py\", line 154, in <module>\n",
            "    f'checkpoint/pixelsnail_{args.hier}_{str(i + 1).zfill(3)}.pt',\n",
            "  File \"/usr/local/lib/python3.7/dist-packages/torch/serialization.py\", line 369, in save\n",
            "    with _open_file_like(f, 'wb') as opened_file:\n",
            "  File \"/usr/local/lib/python3.7/dist-packages/torch/serialization.py\", line 230, in _open_file_like\n",
            "    return _open_file(name_or_buffer, mode)\n",
            "  File \"/usr/local/lib/python3.7/dist-packages/torch/serialization.py\", line 211, in __init__\n",
            "    super(_open_file, self).__init__(open(name, mode))\n",
            "OSError: [Errno 107] Transport endpoint is not connected: 'checkpoint/pixelsnail_bottom_017.pt'\n"
          ],
          "name": "stdout"
        }
      ]
    },
    {
      "cell_type": "code",
      "metadata": {
        "colab": {
          "base_uri": "https://localhost:8080/"
        },
        "id": "YCPSLsU4k4eA",
        "outputId": "f96bab77-3dba-437c-a126-cc3cb28bfd15"
      },
      "source": [
        "# View kết quả từ 3 quá trình train trên\r\n",
        "!python sample.py --batch 5 --vqvae '/content/drive/MyDrive/Study/Generate Anime/vq-vae-2-pytorch/checkpoint/vqvae_200.pt' --top '/content/drive/MyDrive/Study/Generate Anime/vq-vae-2-pytorch/checkpoint/pixelsnail_top_029.pt' --bottom '/content/drive/MyDrive/Study/Generate Anime/vq-vae-2-pytorch/checkpoint/pixelsnail_bottom_011.pt' output.jpg"
      ],
      "execution_count": null,
      "outputs": [
        {
          "output_type": "stream",
          "text": [
            "100% 32/32 [02:19<00:00,  4.35s/it]\n",
            "100% 64/64 [27:46<00:00, 26.04s/it]\n"
          ],
          "name": "stdout"
        }
      ]
    },
    {
      "cell_type": "code",
      "metadata": {
        "colab": {
          "base_uri": "https://localhost:8080/"
        },
        "id": "GP8aZp2TUQTm",
        "outputId": "280768d5-ee27-499b-981e-52ab14e2da99"
      },
      "source": [
        "!python sample.py -h"
      ],
      "execution_count": null,
      "outputs": [
        {
          "output_type": "stream",
          "text": [
            "usage: sample.py [-h] [--batch BATCH] [--vqvae VQVAE] [--top TOP]\n",
            "                 [--bottom BOTTOM] [--temp TEMP]\n",
            "                 filename\n",
            "\n",
            "positional arguments:\n",
            "  filename\n",
            "\n",
            "optional arguments:\n",
            "  -h, --help       show this help message and exit\n",
            "  --batch BATCH\n",
            "  --vqvae VQVAE\n",
            "  --top TOP\n",
            "  --bottom BOTTOM\n",
            "  --temp TEMP\n"
          ],
          "name": "stdout"
        }
      ]
    }
  ]
}